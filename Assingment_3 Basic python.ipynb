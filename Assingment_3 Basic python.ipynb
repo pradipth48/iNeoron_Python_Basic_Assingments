{
 "cells": [
  {
   "cell_type": "code",
   "execution_count": null,
   "metadata": {},
   "outputs": [],
   "source": [
    "Que 1. Why are functions advantageous to have in your programs?\n",
    "\n",
    "Ans= if we made function for easy to use any class using self keywords\n",
    "      we can write the chunks of code with difference functionality \n",
    "      we can be reuse the funcion  its more readable\n",
    "        \n",
    "      "
   ]
  },
  {
   "cell_type": "code",
   "execution_count": null,
   "metadata": {},
   "outputs": [],
   "source": [
    "Que 2: When does the code in a function run: when it's specified or when it's called?\n",
    "        \n",
    "Ans: when function execute buy using the their function name .\n"
   ]
  },
  {
   "cell_type": "code",
   "execution_count": null,
   "metadata": {},
   "outputs": [],
   "source": [
    "Que 3. What statement creates a function?\n",
    "\n",
    "Ans. function is crated by using  def keyword."
   ]
  },
  {
   "cell_type": "code",
   "execution_count": null,
   "metadata": {},
   "outputs": [],
   "source": [
    "Que 4. What is the difference between a function and a function call?\n",
    "\n",
    "Ans.  function  is peice of code its enhance the reusability and readability \n",
    "\n",
    " Function Call :-  function cal means its execute the piece of code or calling the function\n",
    "        "
   ]
  },
  {
   "cell_type": "code",
   "execution_count": null,
   "metadata": {},
   "outputs": [],
   "source": [
    "Que 5. How many global scopes are there in a Python program? How many local scopes?\n",
    "\n",
    "Ans. Only one global variable in python and in Local scope  Python scopes—local, enclosing, global, and built-in—depending on where you are in the code. "
   ]
  },
  {
   "cell_type": "code",
   "execution_count": null,
   "metadata": {},
   "outputs": [],
   "source": [
    "Que 6. What happens to variables in a local scope when the function call returns?\n",
    "\n",
    "Ans. it will give the return values "
   ]
  },
  {
   "cell_type": "code",
   "execution_count": null,
   "metadata": {},
   "outputs": [],
   "source": [
    "Que 7. What is the concept of a return value? Is it possible to have a return value in an expression?\n",
    "\n",
    "Ans. while we use return keywords it store the value  in variable and that return value also store in function."
   ]
  },
  {
   "cell_type": "code",
   "execution_count": null,
   "metadata": {},
   "outputs": [],
   "source": [
    "Que 8. If a function does not have a return statement, what is the return value of a call to that function?\n",
    "\n",
    "Ans. its gives the None"
   ]
  },
  {
   "cell_type": "code",
   "execution_count": null,
   "metadata": {},
   "outputs": [],
   "source": [
    "Que 9. How do you make a function variable refer to the global variable?\n",
    "\n",
    "Ans. using Global keywords\n"
   ]
  },
  {
   "cell_type": "code",
   "execution_count": null,
   "metadata": {},
   "outputs": [],
   "source": [
    "Que 10. What is the data type of None?\n",
    "\n",
    "Ans : NoneType\n"
   ]
  },
  {
   "cell_type": "code",
   "execution_count": null,
   "metadata": {},
   "outputs": [],
   "source": [
    "11. What does the sentence import are allyourpetsnamederic do?\n",
    "\n",
    "Ans: the sentence import are allyourpetsnamederic is used for sentence import are allyourpetsnamederic"
   ]
  },
  {
   "cell_type": "code",
   "execution_count": null,
   "metadata": {},
   "outputs": [],
   "source": [
    "Que 12. If you had a bacon() feature in a spam module, what would you call it after importing spam?\n",
    "\n",
    "Ans. This function can be called with spam. bacon().\n"
   ]
  },
  {
   "cell_type": "code",
   "execution_count": null,
   "metadata": {},
   "outputs": [],
   "source": [
    "Que 13. What can you do to save a programme from crashing if it encounters an error?\n",
    "\n",
    "Ans. Place the line of code that might cause an error in a try clause."
   ]
  },
  {
   "cell_type": "code",
   "execution_count": null,
   "metadata": {},
   "outputs": [],
   "source": [
    "Que 14. What is the purpose of the try clause? What is the purpose of the except clause?\n",
    "\n",
    "Ans. Try clouse is used to execude the code and handle the exception in except block"
   ]
  },
  {
   "cell_type": "code",
   "execution_count": null,
   "metadata": {},
   "outputs": [],
   "source": []
  },
  {
   "cell_type": "code",
   "execution_count": null,
   "metadata": {},
   "outputs": [],
   "source": []
  }
 ],
 "metadata": {
  "kernelspec": {
   "display_name": "Python 3",
   "language": "python",
   "name": "python3"
  },
  "language_info": {
   "codemirror_mode": {
    "name": "ipython",
    "version": 3
   },
   "file_extension": ".py",
   "mimetype": "text/x-python",
   "name": "python",
   "nbconvert_exporter": "python",
   "pygments_lexer": "ipython3",
   "version": "3.8.5"
  }
 },
 "nbformat": 4,
 "nbformat_minor": 4
}
